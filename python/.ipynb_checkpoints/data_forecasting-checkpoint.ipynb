{
 "cells": [
  {
   "cell_type": "markdown",
   "metadata": {},
   "source": [
    "# Import libraries"
   ]
  },
  {
   "cell_type": "code",
   "execution_count": 6,
   "metadata": {},
   "outputs": [],
   "source": [
    "import pandas as pd\n",
    "import numpy as np\n",
    "import matplotlib.pyplot as plt\n",
    "\n",
    "import os\n",
    "\n",
    "from statsmodels.tsa.holtwinters import ExponentialSmoothing\n",
    "from sklearn.metrics import mean_absolute_error, mean_squared_error"
   ]
  },
  {
   "cell_type": "markdown",
   "metadata": {},
   "source": [
    "# Import processed dataset"
   ]
  },
  {
   "cell_type": "code",
   "execution_count": 7,
   "metadata": {},
   "outputs": [],
   "source": [
    "loc = os.path.normpath(os.getcwd() + os.sep + os.pardir)\n",
    "dataset_link = loc + '\\processed_data'"
   ]
  },
  {
   "cell_type": "code",
   "execution_count": 8,
   "metadata": {},
   "outputs": [
    {
     "data": {
      "text/html": [
       "<div>\n",
       "<style scoped>\n",
       "    .dataframe tbody tr th:only-of-type {\n",
       "        vertical-align: middle;\n",
       "    }\n",
       "\n",
       "    .dataframe tbody tr th {\n",
       "        vertical-align: top;\n",
       "    }\n",
       "\n",
       "    .dataframe thead th {\n",
       "        text-align: right;\n",
       "    }\n",
       "</style>\n",
       "<table border=\"1\" class=\"dataframe\">\n",
       "  <thead>\n",
       "    <tr style=\"text-align: right;\">\n",
       "      <th></th>\n",
       "      <th>order_id</th>\n",
       "      <th>order_status</th>\n",
       "      <th>order_approved_at</th>\n",
       "      <th>order_delivered_carrier_date</th>\n",
       "      <th>order_delivered_customer_date</th>\n",
       "      <th>order_estimated_delivery_date</th>\n",
       "      <th>customer_unique_id</th>\n",
       "      <th>customer_zip_code_prefix</th>\n",
       "      <th>customer_city</th>\n",
       "      <th>customer_state</th>\n",
       "    </tr>\n",
       "    <tr>\n",
       "      <th>order_purchase_timestamp</th>\n",
       "      <th></th>\n",
       "      <th></th>\n",
       "      <th></th>\n",
       "      <th></th>\n",
       "      <th></th>\n",
       "      <th></th>\n",
       "      <th></th>\n",
       "      <th></th>\n",
       "      <th></th>\n",
       "      <th></th>\n",
       "    </tr>\n",
       "  </thead>\n",
       "  <tbody>\n",
       "    <tr>\n",
       "      <th>2017-10-02 10:56:33</th>\n",
       "      <td>e481f51cbdc54678b7cc49136f2d6af7</td>\n",
       "      <td>delivered</td>\n",
       "      <td>2017-10-02 11:07:15</td>\n",
       "      <td>2017-10-04 19:55:00</td>\n",
       "      <td>2017-10-10 21:25:13</td>\n",
       "      <td>2017-10-18 00:00:00</td>\n",
       "      <td>7c396fd4830fd04220f754e42b4e5bff</td>\n",
       "      <td>3149</td>\n",
       "      <td>sao paulo</td>\n",
       "      <td>SP</td>\n",
       "    </tr>\n",
       "    <tr>\n",
       "      <th>2018-07-24 20:41:37</th>\n",
       "      <td>53cdb2fc8bc7dce0b6741e2150273451</td>\n",
       "      <td>delivered</td>\n",
       "      <td>2018-07-26 03:24:27</td>\n",
       "      <td>2018-07-26 14:31:00</td>\n",
       "      <td>2018-08-07 15:27:45</td>\n",
       "      <td>2018-08-13 00:00:00</td>\n",
       "      <td>af07308b275d755c9edb36a90c618231</td>\n",
       "      <td>47813</td>\n",
       "      <td>barreiras</td>\n",
       "      <td>BA</td>\n",
       "    </tr>\n",
       "    <tr>\n",
       "      <th>2018-08-08 08:38:49</th>\n",
       "      <td>47770eb9100c2d0c44946d9cf07ec65d</td>\n",
       "      <td>delivered</td>\n",
       "      <td>2018-08-08 08:55:23</td>\n",
       "      <td>2018-08-08 13:50:00</td>\n",
       "      <td>2018-08-17 18:06:29</td>\n",
       "      <td>2018-09-04 00:00:00</td>\n",
       "      <td>3a653a41f6f9fc3d2a113cf8398680e8</td>\n",
       "      <td>75265</td>\n",
       "      <td>vianopolis</td>\n",
       "      <td>GO</td>\n",
       "    </tr>\n",
       "    <tr>\n",
       "      <th>2017-11-18 19:28:06</th>\n",
       "      <td>949d5b44dbf5de918fe9c16f97b45f8a</td>\n",
       "      <td>delivered</td>\n",
       "      <td>2017-11-18 19:45:59</td>\n",
       "      <td>2017-11-22 13:39:59</td>\n",
       "      <td>2017-12-02 00:28:42</td>\n",
       "      <td>2017-12-15 00:00:00</td>\n",
       "      <td>7c142cf63193a1473d2e66489a9ae977</td>\n",
       "      <td>59296</td>\n",
       "      <td>sao goncalo do amarante</td>\n",
       "      <td>RN</td>\n",
       "    </tr>\n",
       "    <tr>\n",
       "      <th>2018-02-13 21:18:39</th>\n",
       "      <td>ad21c59c0840e6cb83a9ceb5573f8159</td>\n",
       "      <td>delivered</td>\n",
       "      <td>2018-02-13 22:20:29</td>\n",
       "      <td>2018-02-14 19:46:34</td>\n",
       "      <td>2018-02-16 18:17:02</td>\n",
       "      <td>2018-02-26 00:00:00</td>\n",
       "      <td>72632f0f9dd73dfee390c9b22eb56dd6</td>\n",
       "      <td>9195</td>\n",
       "      <td>santo andre</td>\n",
       "      <td>SP</td>\n",
       "    </tr>\n",
       "    <tr>\n",
       "      <th>...</th>\n",
       "      <td>...</td>\n",
       "      <td>...</td>\n",
       "      <td>...</td>\n",
       "      <td>...</td>\n",
       "      <td>...</td>\n",
       "      <td>...</td>\n",
       "      <td>...</td>\n",
       "      <td>...</td>\n",
       "      <td>...</td>\n",
       "      <td>...</td>\n",
       "    </tr>\n",
       "    <tr>\n",
       "      <th>2017-03-09 09:54:05</th>\n",
       "      <td>9c5dedf39a927c1b2549525ed64a053c</td>\n",
       "      <td>delivered</td>\n",
       "      <td>2017-03-09 09:54:05</td>\n",
       "      <td>2017-03-10 11:18:03</td>\n",
       "      <td>2017-03-17 15:08:01</td>\n",
       "      <td>2017-03-28 00:00:00</td>\n",
       "      <td>6359f309b166b0196dbf7ad2ac62bb5a</td>\n",
       "      <td>12209</td>\n",
       "      <td>sao jose dos campos</td>\n",
       "      <td>SP</td>\n",
       "    </tr>\n",
       "    <tr>\n",
       "      <th>2018-02-06 12:58:58</th>\n",
       "      <td>63943bddc261676b46f01ca7ac2f7bd8</td>\n",
       "      <td>delivered</td>\n",
       "      <td>2018-02-06 13:10:37</td>\n",
       "      <td>2018-02-07 23:22:42</td>\n",
       "      <td>2018-02-28 17:37:56</td>\n",
       "      <td>2018-03-02 00:00:00</td>\n",
       "      <td>da62f9e57a76d978d02ab5362c509660</td>\n",
       "      <td>11722</td>\n",
       "      <td>praia grande</td>\n",
       "      <td>SP</td>\n",
       "    </tr>\n",
       "    <tr>\n",
       "      <th>2017-08-27 14:46:43</th>\n",
       "      <td>83c1379a015df1e13d02aae0204711ab</td>\n",
       "      <td>delivered</td>\n",
       "      <td>2017-08-27 15:04:16</td>\n",
       "      <td>2017-08-28 20:52:26</td>\n",
       "      <td>2017-09-21 11:24:17</td>\n",
       "      <td>2017-09-27 00:00:00</td>\n",
       "      <td>737520a9aad80b3fbbdad19b66b37b30</td>\n",
       "      <td>45920</td>\n",
       "      <td>nova vicosa</td>\n",
       "      <td>BA</td>\n",
       "    </tr>\n",
       "    <tr>\n",
       "      <th>2018-01-08 21:28:27</th>\n",
       "      <td>11c177c8e97725db2631073c19f07b62</td>\n",
       "      <td>delivered</td>\n",
       "      <td>2018-01-08 21:36:21</td>\n",
       "      <td>2018-01-12 15:35:03</td>\n",
       "      <td>2018-01-25 23:32:54</td>\n",
       "      <td>2018-02-15 00:00:00</td>\n",
       "      <td>5097a5312c8b157bb7be58ae360ef43c</td>\n",
       "      <td>28685</td>\n",
       "      <td>japuiba</td>\n",
       "      <td>RJ</td>\n",
       "    </tr>\n",
       "    <tr>\n",
       "      <th>2018-03-08 20:57:30</th>\n",
       "      <td>66dea50a8b16d9b4dee7af250b4be1a5</td>\n",
       "      <td>delivered</td>\n",
       "      <td>2018-03-09 11:20:28</td>\n",
       "      <td>2018-03-09 22:11:59</td>\n",
       "      <td>2018-03-16 13:08:30</td>\n",
       "      <td>2018-04-03 00:00:00</td>\n",
       "      <td>60350aa974b26ff12caad89e55993bd6</td>\n",
       "      <td>83750</td>\n",
       "      <td>lapa</td>\n",
       "      <td>PR</td>\n",
       "    </tr>\n",
       "  </tbody>\n",
       "</table>\n",
       "<p>99441 rows × 10 columns</p>\n",
       "</div>"
      ],
      "text/plain": [
       "                                                  order_id order_status  \\\n",
       "order_purchase_timestamp                                                  \n",
       "2017-10-02 10:56:33       e481f51cbdc54678b7cc49136f2d6af7    delivered   \n",
       "2018-07-24 20:41:37       53cdb2fc8bc7dce0b6741e2150273451    delivered   \n",
       "2018-08-08 08:38:49       47770eb9100c2d0c44946d9cf07ec65d    delivered   \n",
       "2017-11-18 19:28:06       949d5b44dbf5de918fe9c16f97b45f8a    delivered   \n",
       "2018-02-13 21:18:39       ad21c59c0840e6cb83a9ceb5573f8159    delivered   \n",
       "...                                                    ...          ...   \n",
       "2017-03-09 09:54:05       9c5dedf39a927c1b2549525ed64a053c    delivered   \n",
       "2018-02-06 12:58:58       63943bddc261676b46f01ca7ac2f7bd8    delivered   \n",
       "2017-08-27 14:46:43       83c1379a015df1e13d02aae0204711ab    delivered   \n",
       "2018-01-08 21:28:27       11c177c8e97725db2631073c19f07b62    delivered   \n",
       "2018-03-08 20:57:30       66dea50a8b16d9b4dee7af250b4be1a5    delivered   \n",
       "\n",
       "                            order_approved_at order_delivered_carrier_date  \\\n",
       "order_purchase_timestamp                                                     \n",
       "2017-10-02 10:56:33       2017-10-02 11:07:15          2017-10-04 19:55:00   \n",
       "2018-07-24 20:41:37       2018-07-26 03:24:27          2018-07-26 14:31:00   \n",
       "2018-08-08 08:38:49       2018-08-08 08:55:23          2018-08-08 13:50:00   \n",
       "2017-11-18 19:28:06       2017-11-18 19:45:59          2017-11-22 13:39:59   \n",
       "2018-02-13 21:18:39       2018-02-13 22:20:29          2018-02-14 19:46:34   \n",
       "...                                       ...                          ...   \n",
       "2017-03-09 09:54:05       2017-03-09 09:54:05          2017-03-10 11:18:03   \n",
       "2018-02-06 12:58:58       2018-02-06 13:10:37          2018-02-07 23:22:42   \n",
       "2017-08-27 14:46:43       2017-08-27 15:04:16          2017-08-28 20:52:26   \n",
       "2018-01-08 21:28:27       2018-01-08 21:36:21          2018-01-12 15:35:03   \n",
       "2018-03-08 20:57:30       2018-03-09 11:20:28          2018-03-09 22:11:59   \n",
       "\n",
       "                         order_delivered_customer_date  \\\n",
       "order_purchase_timestamp                                 \n",
       "2017-10-02 10:56:33                2017-10-10 21:25:13   \n",
       "2018-07-24 20:41:37                2018-08-07 15:27:45   \n",
       "2018-08-08 08:38:49                2018-08-17 18:06:29   \n",
       "2017-11-18 19:28:06                2017-12-02 00:28:42   \n",
       "2018-02-13 21:18:39                2018-02-16 18:17:02   \n",
       "...                                                ...   \n",
       "2017-03-09 09:54:05                2017-03-17 15:08:01   \n",
       "2018-02-06 12:58:58                2018-02-28 17:37:56   \n",
       "2017-08-27 14:46:43                2017-09-21 11:24:17   \n",
       "2018-01-08 21:28:27                2018-01-25 23:32:54   \n",
       "2018-03-08 20:57:30                2018-03-16 13:08:30   \n",
       "\n",
       "                         order_estimated_delivery_date  \\\n",
       "order_purchase_timestamp                                 \n",
       "2017-10-02 10:56:33                2017-10-18 00:00:00   \n",
       "2018-07-24 20:41:37                2018-08-13 00:00:00   \n",
       "2018-08-08 08:38:49                2018-09-04 00:00:00   \n",
       "2017-11-18 19:28:06                2017-12-15 00:00:00   \n",
       "2018-02-13 21:18:39                2018-02-26 00:00:00   \n",
       "...                                                ...   \n",
       "2017-03-09 09:54:05                2017-03-28 00:00:00   \n",
       "2018-02-06 12:58:58                2018-03-02 00:00:00   \n",
       "2017-08-27 14:46:43                2017-09-27 00:00:00   \n",
       "2018-01-08 21:28:27                2018-02-15 00:00:00   \n",
       "2018-03-08 20:57:30                2018-04-03 00:00:00   \n",
       "\n",
       "                                        customer_unique_id  \\\n",
       "order_purchase_timestamp                                     \n",
       "2017-10-02 10:56:33       7c396fd4830fd04220f754e42b4e5bff   \n",
       "2018-07-24 20:41:37       af07308b275d755c9edb36a90c618231   \n",
       "2018-08-08 08:38:49       3a653a41f6f9fc3d2a113cf8398680e8   \n",
       "2017-11-18 19:28:06       7c142cf63193a1473d2e66489a9ae977   \n",
       "2018-02-13 21:18:39       72632f0f9dd73dfee390c9b22eb56dd6   \n",
       "...                                                    ...   \n",
       "2017-03-09 09:54:05       6359f309b166b0196dbf7ad2ac62bb5a   \n",
       "2018-02-06 12:58:58       da62f9e57a76d978d02ab5362c509660   \n",
       "2017-08-27 14:46:43       737520a9aad80b3fbbdad19b66b37b30   \n",
       "2018-01-08 21:28:27       5097a5312c8b157bb7be58ae360ef43c   \n",
       "2018-03-08 20:57:30       60350aa974b26ff12caad89e55993bd6   \n",
       "\n",
       "                          customer_zip_code_prefix            customer_city  \\\n",
       "order_purchase_timestamp                                                      \n",
       "2017-10-02 10:56:33                           3149                sao paulo   \n",
       "2018-07-24 20:41:37                          47813                barreiras   \n",
       "2018-08-08 08:38:49                          75265               vianopolis   \n",
       "2017-11-18 19:28:06                          59296  sao goncalo do amarante   \n",
       "2018-02-13 21:18:39                           9195              santo andre   \n",
       "...                                            ...                      ...   \n",
       "2017-03-09 09:54:05                          12209      sao jose dos campos   \n",
       "2018-02-06 12:58:58                          11722             praia grande   \n",
       "2017-08-27 14:46:43                          45920              nova vicosa   \n",
       "2018-01-08 21:28:27                          28685                  japuiba   \n",
       "2018-03-08 20:57:30                          83750                     lapa   \n",
       "\n",
       "                         customer_state  \n",
       "order_purchase_timestamp                 \n",
       "2017-10-02 10:56:33                  SP  \n",
       "2018-07-24 20:41:37                  BA  \n",
       "2018-08-08 08:38:49                  GO  \n",
       "2017-11-18 19:28:06                  RN  \n",
       "2018-02-13 21:18:39                  SP  \n",
       "...                                 ...  \n",
       "2017-03-09 09:54:05                  SP  \n",
       "2018-02-06 12:58:58                  SP  \n",
       "2017-08-27 14:46:43                  BA  \n",
       "2018-01-08 21:28:27                  RJ  \n",
       "2018-03-08 20:57:30                  PR  \n",
       "\n",
       "[99441 rows x 10 columns]"
      ]
     },
     "execution_count": 8,
     "metadata": {},
     "output_type": "execute_result"
    }
   ],
   "source": [
    "df = pd.read_csv(dataset_link + r'\\order_customer.csv', index_col='order_purchase_timestamp', parse_dates=True)\n",
    "df"
   ]
  },
  {
   "cell_type": "markdown",
   "metadata": {},
   "source": [
    "# Aggregate data"
   ]
  },
  {
   "cell_type": "markdown",
   "metadata": {},
   "source": [
    "Only get data from 2017-01-01 to 2017-11-01 to avoid anomaly from Black Friday"
   ]
  },
  {
   "cell_type": "code",
   "execution_count": 9,
   "metadata": {
    "tags": []
   },
   "outputs": [
    {
     "data": {
      "text/html": [
       "<div>\n",
       "<style scoped>\n",
       "    .dataframe tbody tr th:only-of-type {\n",
       "        vertical-align: middle;\n",
       "    }\n",
       "\n",
       "    .dataframe tbody tr th {\n",
       "        vertical-align: top;\n",
       "    }\n",
       "\n",
       "    .dataframe thead th {\n",
       "        text-align: right;\n",
       "    }\n",
       "</style>\n",
       "<table border=\"1\" class=\"dataframe\">\n",
       "  <thead>\n",
       "    <tr style=\"text-align: right;\">\n",
       "      <th></th>\n",
       "      <th>order_id</th>\n",
       "    </tr>\n",
       "    <tr>\n",
       "      <th>order_purchase_timestamp</th>\n",
       "      <th></th>\n",
       "    </tr>\n",
       "  </thead>\n",
       "  <tbody>\n",
       "    <tr>\n",
       "      <th>2017-01-01</th>\n",
       "      <td>0</td>\n",
       "    </tr>\n",
       "    <tr>\n",
       "      <th>2017-01-02</th>\n",
       "      <td>0</td>\n",
       "    </tr>\n",
       "    <tr>\n",
       "      <th>2017-01-03</th>\n",
       "      <td>0</td>\n",
       "    </tr>\n",
       "    <tr>\n",
       "      <th>2017-01-04</th>\n",
       "      <td>0</td>\n",
       "    </tr>\n",
       "    <tr>\n",
       "      <th>2017-01-05</th>\n",
       "      <td>32</td>\n",
       "    </tr>\n",
       "    <tr>\n",
       "      <th>...</th>\n",
       "      <td>...</td>\n",
       "    </tr>\n",
       "    <tr>\n",
       "      <th>2017-10-28</th>\n",
       "      <td>88</td>\n",
       "    </tr>\n",
       "    <tr>\n",
       "      <th>2017-10-29</th>\n",
       "      <td>132</td>\n",
       "    </tr>\n",
       "    <tr>\n",
       "      <th>2017-10-30</th>\n",
       "      <td>149</td>\n",
       "    </tr>\n",
       "    <tr>\n",
       "      <th>2017-10-31</th>\n",
       "      <td>160</td>\n",
       "    </tr>\n",
       "    <tr>\n",
       "      <th>2017-11-01</th>\n",
       "      <td>111</td>\n",
       "    </tr>\n",
       "  </tbody>\n",
       "</table>\n",
       "<p>305 rows × 1 columns</p>\n",
       "</div>"
      ],
      "text/plain": [
       "                          order_id\n",
       "order_purchase_timestamp          \n",
       "2017-01-01                       0\n",
       "2017-01-02                       0\n",
       "2017-01-03                       0\n",
       "2017-01-04                       0\n",
       "2017-01-05                      32\n",
       "...                            ...\n",
       "2017-10-28                      88\n",
       "2017-10-29                     132\n",
       "2017-10-30                     149\n",
       "2017-10-31                     160\n",
       "2017-11-01                     111\n",
       "\n",
       "[305 rows x 1 columns]"
      ]
     },
     "execution_count": 9,
     "metadata": {},
     "output_type": "execute_result"
    }
   ],
   "source": [
    "df = df['order_id'].resample('D').count()\n",
    "df = pd.DataFrame(df.loc['2017-01-01':'2017-11-01'])\n",
    "df"
   ]
  },
  {
   "cell_type": "markdown",
   "metadata": {},
   "source": [
    "Create train and test set"
   ]
  },
  {
   "cell_type": "code",
   "execution_count": 10,
   "metadata": {},
   "outputs": [],
   "source": [
    "train_data = df.iloc[:225]\n",
    "test_data = df.iloc[225:]"
   ]
  },
  {
   "cell_type": "code",
   "execution_count": 11,
   "metadata": {},
   "outputs": [
    {
     "data": {
      "text/html": [
       "<div>\n",
       "<style scoped>\n",
       "    .dataframe tbody tr th:only-of-type {\n",
       "        vertical-align: middle;\n",
       "    }\n",
       "\n",
       "    .dataframe tbody tr th {\n",
       "        vertical-align: top;\n",
       "    }\n",
       "\n",
       "    .dataframe thead th {\n",
       "        text-align: right;\n",
       "    }\n",
       "</style>\n",
       "<table border=\"1\" class=\"dataframe\">\n",
       "  <thead>\n",
       "    <tr style=\"text-align: right;\">\n",
       "      <th></th>\n",
       "      <th>order_id</th>\n",
       "    </tr>\n",
       "    <tr>\n",
       "      <th>order_purchase_timestamp</th>\n",
       "      <th></th>\n",
       "    </tr>\n",
       "  </thead>\n",
       "  <tbody>\n",
       "    <tr>\n",
       "      <th>2017-08-09</th>\n",
       "      <td>144</td>\n",
       "    </tr>\n",
       "    <tr>\n",
       "      <th>2017-08-10</th>\n",
       "      <td>157</td>\n",
       "    </tr>\n",
       "    <tr>\n",
       "      <th>2017-08-11</th>\n",
       "      <td>141</td>\n",
       "    </tr>\n",
       "    <tr>\n",
       "      <th>2017-08-12</th>\n",
       "      <td>98</td>\n",
       "    </tr>\n",
       "    <tr>\n",
       "      <th>2017-08-13</th>\n",
       "      <td>96</td>\n",
       "    </tr>\n",
       "  </tbody>\n",
       "</table>\n",
       "</div>"
      ],
      "text/plain": [
       "                          order_id\n",
       "order_purchase_timestamp          \n",
       "2017-08-09                     144\n",
       "2017-08-10                     157\n",
       "2017-08-11                     141\n",
       "2017-08-12                      98\n",
       "2017-08-13                      96"
      ]
     },
     "execution_count": 11,
     "metadata": {},
     "output_type": "execute_result"
    }
   ],
   "source": [
    "train_data.tail()"
   ]
  },
  {
   "cell_type": "code",
   "execution_count": 12,
   "metadata": {},
   "outputs": [
    {
     "data": {
      "text/html": [
       "<div>\n",
       "<style scoped>\n",
       "    .dataframe tbody tr th:only-of-type {\n",
       "        vertical-align: middle;\n",
       "    }\n",
       "\n",
       "    .dataframe tbody tr th {\n",
       "        vertical-align: top;\n",
       "    }\n",
       "\n",
       "    .dataframe thead th {\n",
       "        text-align: right;\n",
       "    }\n",
       "</style>\n",
       "<table border=\"1\" class=\"dataframe\">\n",
       "  <thead>\n",
       "    <tr style=\"text-align: right;\">\n",
       "      <th></th>\n",
       "      <th>order_id</th>\n",
       "    </tr>\n",
       "    <tr>\n",
       "      <th>order_purchase_timestamp</th>\n",
       "      <th></th>\n",
       "    </tr>\n",
       "  </thead>\n",
       "  <tbody>\n",
       "    <tr>\n",
       "      <th>2017-08-14</th>\n",
       "      <td>159</td>\n",
       "    </tr>\n",
       "    <tr>\n",
       "      <th>2017-08-15</th>\n",
       "      <td>194</td>\n",
       "    </tr>\n",
       "    <tr>\n",
       "      <th>2017-08-16</th>\n",
       "      <td>174</td>\n",
       "    </tr>\n",
       "    <tr>\n",
       "      <th>2017-08-17</th>\n",
       "      <td>158</td>\n",
       "    </tr>\n",
       "    <tr>\n",
       "      <th>2017-08-18</th>\n",
       "      <td>147</td>\n",
       "    </tr>\n",
       "  </tbody>\n",
       "</table>\n",
       "</div>"
      ],
      "text/plain": [
       "                          order_id\n",
       "order_purchase_timestamp          \n",
       "2017-08-14                     159\n",
       "2017-08-15                     194\n",
       "2017-08-16                     174\n",
       "2017-08-17                     158\n",
       "2017-08-18                     147"
      ]
     },
     "execution_count": 12,
     "metadata": {},
     "output_type": "execute_result"
    }
   ],
   "source": [
    "test_data.head()"
   ]
  },
  {
   "cell_type": "markdown",
   "metadata": {},
   "source": [
    "# Create model"
   ]
  },
  {
   "cell_type": "code",
   "execution_count": 13,
   "metadata": {},
   "outputs": [
    {
     "data": {
      "text/plain": [
       "2017-08-14    152.266923\n",
       "2017-08-15    153.270211\n",
       "2017-08-16    141.319105\n",
       "2017-08-17    140.011483\n",
       "2017-08-18    130.739307\n",
       "                 ...    \n",
       "2017-10-28    143.402348\n",
       "2017-10-29    160.076157\n",
       "2017-10-30    196.879152\n",
       "2017-10-31    197.882440\n",
       "2017-11-01    185.931334\n",
       "Freq: D, Length: 80, dtype: float64"
      ]
     },
     "execution_count": 13,
     "metadata": {},
     "output_type": "execute_result"
    }
   ],
   "source": [
    "fitted_model = ExponentialSmoothing(train_data['order_id'],\n",
    "                                   trend='add', seasonal='add',\n",
    "                                   seasonal_periods=7).fit()\n",
    "# trend='mul',seasonal='mul', seasonal_periods=7\n",
    "test_predictions = fitted_model.forecast(80)\n",
    "test_predictions"
   ]
  },
  {
   "cell_type": "code",
   "execution_count": 14,
   "metadata": {},
   "outputs": [
    {
     "data": {
      "text/plain": [
       "<matplotlib.legend.Legend at 0x2170d1fbac0>"
      ]
     },
     "execution_count": 14,
     "metadata": {},
     "output_type": "execute_result"
    },
    {
     "data": {
      "image/png": "[encoded data removed]",
      "text/plain": [
       "<Figure size 1080x576 with 1 Axes>"
      ]
     },
     "metadata": {
      "needs_background": "light"
     },
     "output_type": "display_data"
    }
   ],
   "source": [
    "# Visualize\n",
    "train_data['order_id'].plot(legend=True, label='Train', figsize=(15,8))\n",
    "test_data['order_id'].plot(legend=True, label='Test')\n",
    "test_predictions.plot(legend=True ,label='prediction',\n",
    "                      xlim=['2017-05-01', '2017-10-06'])\n",
    "plt.legend(fontsize=15) "
   ]
  },
  {
   "cell_type": "markdown",
   "metadata": {},
   "source": [
    "# Evaluate model"
   ]
  },
  {
   "cell_type": "code",
   "execution_count": 15,
   "metadata": {},
   "outputs": [
    {
     "data": {
      "text/plain": [
       "647.5229244722987"
      ]
     },
     "execution_count": 15,
     "metadata": {},
     "output_type": "execute_result"
    }
   ],
   "source": [
    "mean_squared_error(test_data, test_predictions)"
   ]
  },
  {
   "cell_type": "code",
   "execution_count": 16,
   "metadata": {},
   "outputs": [
    {
     "data": {
      "text/plain": [
       "20.656400825709106"
      ]
     },
     "execution_count": 16,
     "metadata": {},
     "output_type": "execute_result"
    }
   ],
   "source": [
    "mean_absolute_error(test_data, test_predictions)"
   ]
  },
  {
   "cell_type": "code",
   "execution_count": 17,
   "metadata": {},
   "outputs": [
    {
     "data": {
      "text/plain": [
       "25.446471748992995"
      ]
     },
     "execution_count": 17,
     "metadata": {},
     "output_type": "execute_result"
    }
   ],
   "source": [
    "np.sqrt(mean_squared_error(test_data, test_predictions))"
   ]
  },
  {
   "cell_type": "code",
   "execution_count": null,
   "metadata": {},
   "outputs": [],
   "source": []
  }
 ],
 "metadata": {
  "kernelspec": {
   "display_name": "Python 3 (ipykernel)",
   "language": "python",
   "name": "python3"
  },
  "language_info": {
   "codemirror_mode": {
    "name": "ipython",
    "version": 3
   },
   "file_extension": ".py",
   "mimetype": "text/x-python",
   "name": "python",
   "nbconvert_exporter": "python",
   "pygments_lexer": "ipython3",
   "version": "3.9.12"
  }
 },
 "nbformat": 4,
 "nbformat_minor": 4
}
